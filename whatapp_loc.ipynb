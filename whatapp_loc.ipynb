{
 "cells": [
  {
   "cell_type": "code",
   "execution_count": 1,
   "metadata": {},
   "outputs": [],
   "source": [
    "from selenium import webdriver \n",
    "from selenium.webdriver.support.ui import WebDriverWait \n",
    "from selenium.webdriver.support import expected_conditions as EC \n",
    "from selenium.webdriver.common.keys import Keys \n",
    "from selenium.webdriver.common.by import By \n",
    "import time\n",
    "import threading\n",
    "import datetime\n",
    "from bs4 import BeautifulSoup\n",
    "import requests\n",
    "import calendar as k"
   ]
  },
  {
   "cell_type": "code",
   "execution_count": 11,
   "metadata": {},
   "outputs": [],
   "source": [
    "from selenium import webdriver \n",
    "driver = webdriver.Chrome()"
   ]
  },
  {
   "cell_type": "code",
   "execution_count": 3,
   "metadata": {},
   "outputs": [],
   "source": [
    "URL = 'https://web.whatsapp.com/' \n",
    "driver.get(URL) "
   ]
  },
  {
   "cell_type": "code",
   "execution_count": 5,
   "metadata": {},
   "outputs": [],
   "source": [
    "import requests\n",
    "r = requests.get('https://get.geojs.io/')\n",
    "ip_request = requests.get('https://get.geojs.io/v1/ip.json')\n",
    "loc = []\n",
    "ipAdd = ip_request.json() ['ip']\n",
    "loc.append(ipAdd)\n",
    "url = 'https://get.geojs.io/v1/ip/geo/'+ipAdd+'.json'\n",
    "geo_request = requests.get(url)\n",
    "geo_data = geo_request.json()\n",
    "# print(geo_data)\n",
    "loc.append(geo_data['latitude'])\n",
    "loc.append(geo_data['longitude'])\n",
    "loc.append(geo_data['city'])\n",
    "loc.append(geo_data['region'])\n",
    "loc.append(geo_data['country'])\n",
    "loc.append(geo_data['timezone'])\n",
    "\n",
    "s=\"\"\n",
    "for i in loc:\n",
    "    s+=str(i)+\" \""
   ]
  },
  {
   "cell_type": "code",
   "execution_count": 9,
   "metadata": {},
   "outputs": [
    {
     "ename": "IndexError",
     "evalue": "list index out of range",
     "output_type": "error",
     "traceback": [
      "\u001b[1;31m---------------------------------------------------------------------------\u001b[0m",
      "\u001b[1;31mIndexError\u001b[0m                                Traceback (most recent call last)",
      "Cell \u001b[1;32mIn[9], line 7\u001b[0m\n\u001b[0;32m      5\u001b[0m target \u001b[38;5;241m=\u001b[39m \u001b[38;5;124m\"\u001b[39m\u001b[38;5;124mSaptarshi Majumder (IIITL|CSAI)\u001b[39m\u001b[38;5;124m\"\u001b[39m\n\u001b[0;32m      6\u001b[0m user \u001b[38;5;241m=\u001b[39m driver\u001b[38;5;241m.\u001b[39mfind_elements(By\u001b[38;5;241m.\u001b[39mXPATH,\u001b[38;5;124m'\u001b[39m\u001b[38;5;124m//span[@title = \u001b[39m\u001b[38;5;124m\"\u001b[39m\u001b[38;5;132;01m{}\u001b[39;00m\u001b[38;5;124m\"\u001b[39m\u001b[38;5;124m]\u001b[39m\u001b[38;5;124m'\u001b[39m\u001b[38;5;241m.\u001b[39mformat(target))\n\u001b[1;32m----> 7\u001b[0m \u001b[43muser\u001b[49m\u001b[43m[\u001b[49m\u001b[38;5;241;43m0\u001b[39;49m\u001b[43m]\u001b[49m\u001b[38;5;241m.\u001b[39mclick()\n\u001b[0;32m      8\u001b[0m msg_box \u001b[38;5;241m=\u001b[39m driver\u001b[38;5;241m.\u001b[39mfind_element(By\u001b[38;5;241m.\u001b[39mXPATH,\u001b[38;5;124m'\u001b[39m\u001b[38;5;124m//div[@title = \u001b[39m\u001b[38;5;124m\"\u001b[39m\u001b[38;5;124mType a message\u001b[39m\u001b[38;5;124m\"\u001b[39m\u001b[38;5;124m]/p\u001b[39m\u001b[38;5;124m'\u001b[39m)\n\u001b[0;32m      9\u001b[0m msg_box\u001b[38;5;241m.\u001b[39mclick()\n",
      "\u001b[1;31mIndexError\u001b[0m: list index out of range"
     ]
    }
   ],
   "source": [
    "\n",
    "wait = WebDriverWait(driver, 600) \n",
    "string = s\n",
    "url_link = \"https://www.gps-coordinates.net/\"\n",
    "msgg=string+url_link\n",
    "target = \"Saptarshi Majumder (IIITL|CSAI)\"\n",
    "user = driver.find_elements(By.XPATH,'//span[@title = \"{}\"]'.format(target))\n",
    "user[0].click()\n",
    "msg_box = driver.find_element(By.XPATH,'//div[@title = \"Type a message\"]/p')\n",
    "msg_box.click()\n",
    "msg_box.send_keys(msgg+Keys.ENTER)\n",
    "print(\"msg_Sent+call\")\n",
    "\n",
    "# driver.quit()\n"
   ]
  },
  {
   "cell_type": "code",
   "execution_count": 8,
   "metadata": {},
   "outputs": [
    {
     "data": {
      "text/plain": [
       "'2409:40e3:1044:4dc2:8516:f2e3:1247:d8d1 26.8756 80.9115 Lucknow Uttar Pradesh India Asia/Kolkata https://www.gps-coordinates.net/'"
      ]
     },
     "execution_count": 8,
     "metadata": {},
     "output_type": "execute_result"
    }
   ],
   "source": [
    "msgg"
   ]
  },
  {
   "cell_type": "markdown",
   "metadata": {},
   "source": [
    "this is imp...\n"
   ]
  },
  {
   "cell_type": "code",
   "execution_count": 76,
   "metadata": {},
   "outputs": [
    {
     "name": "stdout",
     "output_type": "stream",
     "text": [
      "2409:40e3:1031:fcea:dc1a:93f5:608b:16ea 26.8756 80.9115 Lucknow Uttar Pradesh India Asia/Kolkata \n",
      "msg_Sent\n"
     ]
    }
   ],
   "source": [
    "        # import requests\n",
    "        # r = requests.get('https://get.geojs.io/')\n",
    "        # ip_request = requests.get('https://get.geojs.io/v1/ip.json')\n",
    "        # loc = []\n",
    "        # ipAdd = ip_request.json() ['ip']\n",
    "        # loc.append(ipAdd)\n",
    "        # url = 'https://get.geojs.io/v1/ip/geo/'+ipAdd+'.json'\n",
    "        # geo_request = requests.get(url)\n",
    "        # geo_data = geo_request.json()\n",
    "        # # print(geo_data)\n",
    "        # loc.append(geo_data['latitude'])\n",
    "        # loc.append(geo_data['longitude'])\n",
    "        # loc.append(geo_data['city'])\n",
    "        # loc.append(geo_data['region'])\n",
    "        # loc.append(geo_data['country'])\n",
    "        # loc.append(geo_data['timezone'])\n",
    "        \n",
    "        # s=\"\"\n",
    "        # for i in loc:\n",
    "        #     s+=str(i)+\" \"\n",
    "        # print(s)\n",
    "            \n",
    "        \n",
    "        # wait = WebDriverWait(driver, 600) \n",
    "        # string = s\n",
    "        # target = \"Saptarshi Majumder (IIITL|CSAI)\"\n",
    "        # user = driver.find_elements(By.XPATH,'//span[@title = \"{}\"]'.format(target))\n",
    "        # user[0].click()\n",
    "        # msg_box = driver.find_element(By.XPATH,'//div[@title = \"Type a message\"]/p')\n",
    "        # msg_box.click()\n",
    "        # msg_box.send_keys(string+Keys.ENTER)\n",
    "        # print(\"msg_Sent\")"
   ]
  },
  {
   "cell_type": "code",
   "execution_count": null,
   "metadata": {},
   "outputs": [],
   "source": []
  },
  {
   "cell_type": "code",
   "execution_count": null,
   "metadata": {},
   "outputs": [],
   "source": []
  },
  {
   "cell_type": "code",
   "execution_count": 75,
   "metadata": {},
   "outputs": [
    {
     "name": "stdout",
     "output_type": "stream",
     "text": [
      "msg_Sent\n"
     ]
    }
   ],
   "source": [
    "    # def msg_now(self):\n",
    "    #     from selenium import webdriver \n",
    "    #     driver = webdriver.Chrome()\n",
    "    #     URL = 'https://web.whatsapp.com/' \n",
    "    #     driver.get(URL)  \n",
    "# wait = WebDriverWait(driver, 600) \n",
    "# string = \"Help Me!\"\n",
    "# target = \"Saptarshi Majumder (IIITL|CSAI)\"\n",
    "# user = driver.find_elements(By.XPATH,'//span[@title = \"{}\"]'.format(target))\n",
    "# user[0].click()\n",
    "# msg_box = driver.find_element(By.XPATH,'//div[@title = \"Type a message\"]/p')\n",
    "# msg_box.click()\n",
    "# msg_box.send_keys(string+Keys.ENTER)\n",
    "# print(\"msg_Sent\")\n",
    "\n",
    "\n"
   ]
  },
  {
   "cell_type": "code",
   "execution_count": null,
   "metadata": {},
   "outputs": [],
   "source": []
  }
 ],
 "metadata": {
  "kernelspec": {
   "display_name": "Python 3",
   "language": "python",
   "name": "python3"
  },
  "language_info": {
   "codemirror_mode": {
    "name": "ipython",
    "version": 3
   },
   "file_extension": ".py",
   "mimetype": "text/x-python",
   "name": "python",
   "nbconvert_exporter": "python",
   "pygments_lexer": "ipython3",
   "version": "3.11.4"
  }
 },
 "nbformat": 4,
 "nbformat_minor": 2
}
